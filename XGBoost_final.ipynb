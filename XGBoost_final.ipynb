{
 "cells": [
  {
   "cell_type": "markdown",
   "id": "14e23f6f",
   "metadata": {},
   "source": [
    "# Smart Lead Scoring Engine\n",
    "\n",
    "### Analytics Vidhya: Job-a-thon June 2022"
   ]
  },
  {
   "cell_type": "markdown",
   "id": "45c5efc9",
   "metadata": {},
   "source": [
    "Problem Statement: A D2C startup develops products using cutting edge technologies like Web 3.0. Over the past few months, the company has started multiple marketing campaigns offline and digital both. As a result, the users have started showing interest in the product on the website. These users with intent to buy product(s) are generally known as leads (Potential Customers). \n",
    "\n",
    "\n",
    "Leads are captured in 2 ways - Directly and Indirectly. \n",
    "\n",
    "\n",
    "Direct leads are captured via forms embedded in the website while indirect leads are captured based on certain activity of a user on the platform such as time spent on the website, number of user sessions, etc.\n",
    "\n",
    "\n",
    "Now, the marketing & sales team wants to identify the leads who are more likely to buy the product so that the sales team can manage their bandwidth efficiently by targeting these potential leads and increase the sales in a shorter span of time.\n",
    "\n",
    "\n",
    "Now, as a data scientist, your task at hand is to predict the propensity to buy a product based on the user's past activities and user level information."
   ]
  },
  {
   "cell_type": "markdown",
   "id": "7d9022cc",
   "metadata": {},
   "source": [
    "- Let's begin by importing the basic libraries first"
   ]
  },
  {
   "cell_type": "code",
   "execution_count": 1,
   "id": "fa6240e3",
   "metadata": {},
   "outputs": [],
   "source": [
    "import pandas as pd\n",
    "import numpy as np\n",
    "import matplotlib.pyplot as plt\n",
    "%matplotlib inline\n",
    "import seaborn as sns\n",
    "from datetime import datetime\n",
    "\n",
    "import warnings\n",
    "warnings.filterwarnings('ignore')\n"
   ]
  },
  {
   "cell_type": "markdown",
   "id": "481e91cf",
   "metadata": {},
   "source": [
    "- Importing the dataset and storing it in a pandas dataframe\n",
    "- Exploring the basic features of our dataset "
   ]
  },
  {
   "cell_type": "code",
   "execution_count": 2,
   "id": "17a47898",
   "metadata": {},
   "outputs": [
    {
     "data": {
      "text/html": [
       "<div>\n",
       "<style scoped>\n",
       "    .dataframe tbody tr th:only-of-type {\n",
       "        vertical-align: middle;\n",
       "    }\n",
       "\n",
       "    .dataframe tbody tr th {\n",
       "        vertical-align: top;\n",
       "    }\n",
       "\n",
       "    .dataframe thead th {\n",
       "        text-align: right;\n",
       "    }\n",
       "</style>\n",
       "<table border=\"1\" class=\"dataframe\">\n",
       "  <thead>\n",
       "    <tr style=\"text-align: right;\">\n",
       "      <th></th>\n",
       "      <th>id</th>\n",
       "      <th>created_at</th>\n",
       "      <th>campaign_var_1</th>\n",
       "      <th>campaign_var_2</th>\n",
       "      <th>products_purchased</th>\n",
       "      <th>signup_date</th>\n",
       "      <th>user_activity_var_1</th>\n",
       "      <th>user_activity_var_2</th>\n",
       "      <th>user_activity_var_3</th>\n",
       "      <th>user_activity_var_4</th>\n",
       "      <th>user_activity_var_5</th>\n",
       "      <th>user_activity_var_6</th>\n",
       "      <th>user_activity_var_7</th>\n",
       "      <th>user_activity_var_8</th>\n",
       "      <th>user_activity_var_9</th>\n",
       "      <th>user_activity_var_10</th>\n",
       "      <th>user_activity_var_11</th>\n",
       "      <th>user_activity_var_12</th>\n",
       "      <th>buy</th>\n",
       "    </tr>\n",
       "  </thead>\n",
       "  <tbody>\n",
       "    <tr>\n",
       "      <th>0</th>\n",
       "      <td>1</td>\n",
       "      <td>2021-01-01</td>\n",
       "      <td>1</td>\n",
       "      <td>2</td>\n",
       "      <td>2.0</td>\n",
       "      <td>2020-09-24</td>\n",
       "      <td>0</td>\n",
       "      <td>0</td>\n",
       "      <td>0</td>\n",
       "      <td>0</td>\n",
       "      <td>0</td>\n",
       "      <td>0</td>\n",
       "      <td>1</td>\n",
       "      <td>1</td>\n",
       "      <td>0</td>\n",
       "      <td>0</td>\n",
       "      <td>0</td>\n",
       "      <td>0</td>\n",
       "      <td>0</td>\n",
       "    </tr>\n",
       "    <tr>\n",
       "      <th>1</th>\n",
       "      <td>2</td>\n",
       "      <td>2021-01-01</td>\n",
       "      <td>2</td>\n",
       "      <td>1</td>\n",
       "      <td>2.0</td>\n",
       "      <td>2020-09-19</td>\n",
       "      <td>1</td>\n",
       "      <td>0</td>\n",
       "      <td>1</td>\n",
       "      <td>0</td>\n",
       "      <td>0</td>\n",
       "      <td>0</td>\n",
       "      <td>1</td>\n",
       "      <td>0</td>\n",
       "      <td>0</td>\n",
       "      <td>0</td>\n",
       "      <td>0</td>\n",
       "      <td>0</td>\n",
       "      <td>0</td>\n",
       "    </tr>\n",
       "    <tr>\n",
       "      <th>2</th>\n",
       "      <td>3</td>\n",
       "      <td>2021-01-01</td>\n",
       "      <td>9</td>\n",
       "      <td>3</td>\n",
       "      <td>3.0</td>\n",
       "      <td>2021-08-11</td>\n",
       "      <td>1</td>\n",
       "      <td>0</td>\n",
       "      <td>0</td>\n",
       "      <td>0</td>\n",
       "      <td>0</td>\n",
       "      <td>0</td>\n",
       "      <td>0</td>\n",
       "      <td>0</td>\n",
       "      <td>0</td>\n",
       "      <td>0</td>\n",
       "      <td>0</td>\n",
       "      <td>0</td>\n",
       "      <td>0</td>\n",
       "    </tr>\n",
       "    <tr>\n",
       "      <th>3</th>\n",
       "      <td>4</td>\n",
       "      <td>2021-01-01</td>\n",
       "      <td>6</td>\n",
       "      <td>7</td>\n",
       "      <td>2.0</td>\n",
       "      <td>2017-10-04</td>\n",
       "      <td>0</td>\n",
       "      <td>0</td>\n",
       "      <td>0</td>\n",
       "      <td>0</td>\n",
       "      <td>0</td>\n",
       "      <td>0</td>\n",
       "      <td>0</td>\n",
       "      <td>0</td>\n",
       "      <td>0</td>\n",
       "      <td>0</td>\n",
       "      <td>0</td>\n",
       "      <td>0</td>\n",
       "      <td>0</td>\n",
       "    </tr>\n",
       "    <tr>\n",
       "      <th>4</th>\n",
       "      <td>5</td>\n",
       "      <td>2021-01-01</td>\n",
       "      <td>4</td>\n",
       "      <td>6</td>\n",
       "      <td>NaN</td>\n",
       "      <td>2020-06-08</td>\n",
       "      <td>0</td>\n",
       "      <td>0</td>\n",
       "      <td>0</td>\n",
       "      <td>0</td>\n",
       "      <td>0</td>\n",
       "      <td>0</td>\n",
       "      <td>1</td>\n",
       "      <td>0</td>\n",
       "      <td>0</td>\n",
       "      <td>0</td>\n",
       "      <td>1</td>\n",
       "      <td>0</td>\n",
       "      <td>0</td>\n",
       "    </tr>\n",
       "  </tbody>\n",
       "</table>\n",
       "</div>"
      ],
      "text/plain": [
       "   id  created_at  campaign_var_1  campaign_var_2  products_purchased  \\\n",
       "0   1  2021-01-01               1               2                 2.0   \n",
       "1   2  2021-01-01               2               1                 2.0   \n",
       "2   3  2021-01-01               9               3                 3.0   \n",
       "3   4  2021-01-01               6               7                 2.0   \n",
       "4   5  2021-01-01               4               6                 NaN   \n",
       "\n",
       "  signup_date  user_activity_var_1  user_activity_var_2  user_activity_var_3  \\\n",
       "0  2020-09-24                    0                    0                    0   \n",
       "1  2020-09-19                    1                    0                    1   \n",
       "2  2021-08-11                    1                    0                    0   \n",
       "3  2017-10-04                    0                    0                    0   \n",
       "4  2020-06-08                    0                    0                    0   \n",
       "\n",
       "   user_activity_var_4  user_activity_var_5  user_activity_var_6  \\\n",
       "0                    0                    0                    0   \n",
       "1                    0                    0                    0   \n",
       "2                    0                    0                    0   \n",
       "3                    0                    0                    0   \n",
       "4                    0                    0                    0   \n",
       "\n",
       "   user_activity_var_7  user_activity_var_8  user_activity_var_9  \\\n",
       "0                    1                    1                    0   \n",
       "1                    1                    0                    0   \n",
       "2                    0                    0                    0   \n",
       "3                    0                    0                    0   \n",
       "4                    1                    0                    0   \n",
       "\n",
       "   user_activity_var_10  user_activity_var_11  user_activity_var_12  buy  \n",
       "0                     0                     0                     0    0  \n",
       "1                     0                     0                     0    0  \n",
       "2                     0                     0                     0    0  \n",
       "3                     0                     0                     0    0  \n",
       "4                     0                     1                     0    0  "
      ]
     },
     "execution_count": 2,
     "metadata": {},
     "output_type": "execute_result"
    }
   ],
   "source": [
    "data = pd.read_csv('train_wn75k28.csv')\n",
    "data.head()"
   ]
  },
  {
   "cell_type": "code",
   "execution_count": 3,
   "id": "2b96501d",
   "metadata": {},
   "outputs": [
    {
     "data": {
      "text/plain": [
       "(39161, 19)"
      ]
     },
     "execution_count": 3,
     "metadata": {},
     "output_type": "execute_result"
    }
   ],
   "source": [
    "data.shape"
   ]
  },
  {
   "cell_type": "code",
   "execution_count": 4,
   "id": "b743b478",
   "metadata": {},
   "outputs": [
    {
     "data": {
      "text/plain": [
       "id                        int64\n",
       "created_at               object\n",
       "campaign_var_1            int64\n",
       "campaign_var_2            int64\n",
       "products_purchased      float64\n",
       "signup_date              object\n",
       "user_activity_var_1       int64\n",
       "user_activity_var_2       int64\n",
       "user_activity_var_3       int64\n",
       "user_activity_var_4       int64\n",
       "user_activity_var_5       int64\n",
       "user_activity_var_6       int64\n",
       "user_activity_var_7       int64\n",
       "user_activity_var_8       int64\n",
       "user_activity_var_9       int64\n",
       "user_activity_var_10      int64\n",
       "user_activity_var_11      int64\n",
       "user_activity_var_12      int64\n",
       "buy                       int64\n",
       "dtype: object"
      ]
     },
     "execution_count": 4,
     "metadata": {},
     "output_type": "execute_result"
    }
   ],
   "source": [
    "data.dtypes"
   ]
  },
  {
   "cell_type": "code",
   "execution_count": 5,
   "id": "83fb8bb3",
   "metadata": {
    "scrolled": true
   },
   "outputs": [
    {
     "data": {
      "text/plain": [
       "id                          0\n",
       "created_at                  0\n",
       "campaign_var_1              0\n",
       "campaign_var_2              0\n",
       "products_purchased      20911\n",
       "signup_date             15113\n",
       "user_activity_var_1         0\n",
       "user_activity_var_2         0\n",
       "user_activity_var_3         0\n",
       "user_activity_var_4         0\n",
       "user_activity_var_5         0\n",
       "user_activity_var_6         0\n",
       "user_activity_var_7         0\n",
       "user_activity_var_8         0\n",
       "user_activity_var_9         0\n",
       "user_activity_var_10        0\n",
       "user_activity_var_11        0\n",
       "user_activity_var_12        0\n",
       "buy                         0\n",
       "dtype: int64"
      ]
     },
     "execution_count": 5,
     "metadata": {},
     "output_type": "execute_result"
    }
   ],
   "source": [
    "data.isnull().sum()"
   ]
  },
  {
   "cell_type": "code",
   "execution_count": 6,
   "id": "093dcdd4",
   "metadata": {},
   "outputs": [
    {
     "data": {
      "text/plain": [
       "id                      0.000000\n",
       "created_at              0.000000\n",
       "campaign_var_1          0.000000\n",
       "campaign_var_2          0.000000\n",
       "products_purchased      0.533975\n",
       "signup_date             0.385920\n",
       "user_activity_var_1     0.000000\n",
       "user_activity_var_2     0.000000\n",
       "user_activity_var_3     0.000000\n",
       "user_activity_var_4     0.000000\n",
       "user_activity_var_5     0.000000\n",
       "user_activity_var_6     0.000000\n",
       "user_activity_var_7     0.000000\n",
       "user_activity_var_8     0.000000\n",
       "user_activity_var_9     0.000000\n",
       "user_activity_var_10    0.000000\n",
       "user_activity_var_11    0.000000\n",
       "user_activity_var_12    0.000000\n",
       "buy                     0.000000\n",
       "dtype: float64"
      ]
     },
     "execution_count": 6,
     "metadata": {},
     "output_type": "execute_result"
    }
   ],
   "source": [
    "data.isnull().sum()/len(data)"
   ]
  },
  {
   "cell_type": "markdown",
   "id": "801337a8",
   "metadata": {},
   "source": [
    "### Some points about data \n",
    "- It contains 39161 rows and 19 columns\n",
    "- The created date and signup date columns are object data type which should be changed to datetime.\n",
    "- There are null values in two columns, products_purchased and signup_date"
   ]
  },
  {
   "cell_type": "markdown",
   "id": "09fb1bc7",
   "metadata": {},
   "source": [
    "#### Changing data type of created_at and signup_date column\n",
    "\n",
    "- After changing, verify that the column datatype has changed by using dtypes method"
   ]
  },
  {
   "cell_type": "code",
   "execution_count": 7,
   "id": "ab913ff0",
   "metadata": {},
   "outputs": [
    {
     "data": {
      "text/plain": [
       "created_at     datetime64[ns]\n",
       "signup_date    datetime64[ns]\n",
       "dtype: object"
      ]
     },
     "execution_count": 7,
     "metadata": {},
     "output_type": "execute_result"
    }
   ],
   "source": [
    "data['created_at'] = pd.to_datetime(data['created_at'], format=\"%Y-%m-%d\")\n",
    "data['signup_date'] = pd.to_datetime(data['signup_date'], format=\"%Y-%m-%d\")\n",
    "data[['created_at', 'signup_date']].dtypes"
   ]
  },
  {
   "cell_type": "code",
   "execution_count": 8,
   "id": "37ceb192",
   "metadata": {},
   "outputs": [
    {
     "data": {
      "text/html": [
       "<div>\n",
       "<style scoped>\n",
       "    .dataframe tbody tr th:only-of-type {\n",
       "        vertical-align: middle;\n",
       "    }\n",
       "\n",
       "    .dataframe tbody tr th {\n",
       "        vertical-align: top;\n",
       "    }\n",
       "\n",
       "    .dataframe thead th {\n",
       "        text-align: right;\n",
       "    }\n",
       "</style>\n",
       "<table border=\"1\" class=\"dataframe\">\n",
       "  <thead>\n",
       "    <tr style=\"text-align: right;\">\n",
       "      <th></th>\n",
       "      <th>id</th>\n",
       "      <th>campaign_var_1</th>\n",
       "      <th>campaign_var_2</th>\n",
       "      <th>products_purchased</th>\n",
       "      <th>user_activity_var_1</th>\n",
       "      <th>user_activity_var_2</th>\n",
       "      <th>user_activity_var_3</th>\n",
       "      <th>user_activity_var_4</th>\n",
       "      <th>user_activity_var_5</th>\n",
       "      <th>user_activity_var_6</th>\n",
       "      <th>user_activity_var_7</th>\n",
       "      <th>user_activity_var_8</th>\n",
       "      <th>user_activity_var_9</th>\n",
       "      <th>user_activity_var_10</th>\n",
       "      <th>user_activity_var_11</th>\n",
       "      <th>user_activity_var_12</th>\n",
       "      <th>buy</th>\n",
       "    </tr>\n",
       "  </thead>\n",
       "  <tbody>\n",
       "    <tr>\n",
       "      <th>count</th>\n",
       "      <td>39161.000000</td>\n",
       "      <td>39161.000000</td>\n",
       "      <td>39161.000000</td>\n",
       "      <td>18250.000000</td>\n",
       "      <td>39161.000000</td>\n",
       "      <td>39161.000000</td>\n",
       "      <td>39161.000000</td>\n",
       "      <td>39161.000000</td>\n",
       "      <td>39161.000000</td>\n",
       "      <td>39161.000000</td>\n",
       "      <td>39161.000000</td>\n",
       "      <td>39161.000000</td>\n",
       "      <td>39161.000000</td>\n",
       "      <td>39161.000000</td>\n",
       "      <td>39161.000000</td>\n",
       "      <td>39161.000000</td>\n",
       "      <td>39161.000000</td>\n",
       "    </tr>\n",
       "    <tr>\n",
       "      <th>mean</th>\n",
       "      <td>19581.000000</td>\n",
       "      <td>6.523812</td>\n",
       "      <td>6.452746</td>\n",
       "      <td>2.154137</td>\n",
       "      <td>0.400092</td>\n",
       "      <td>0.006716</td>\n",
       "      <td>0.102832</td>\n",
       "      <td>0.011465</td>\n",
       "      <td>0.151503</td>\n",
       "      <td>0.499834</td>\n",
       "      <td>0.286612</td>\n",
       "      <td>0.174434</td>\n",
       "      <td>0.011440</td>\n",
       "      <td>0.000383</td>\n",
       "      <td>0.218942</td>\n",
       "      <td>0.000562</td>\n",
       "      <td>0.051020</td>\n",
       "    </tr>\n",
       "    <tr>\n",
       "      <th>std</th>\n",
       "      <td>11304.951283</td>\n",
       "      <td>3.472944</td>\n",
       "      <td>2.614296</td>\n",
       "      <td>0.779815</td>\n",
       "      <td>0.509194</td>\n",
       "      <td>0.081676</td>\n",
       "      <td>0.303743</td>\n",
       "      <td>0.106463</td>\n",
       "      <td>0.359681</td>\n",
       "      <td>0.558166</td>\n",
       "      <td>0.455784</td>\n",
       "      <td>0.379689</td>\n",
       "      <td>0.106346</td>\n",
       "      <td>0.019568</td>\n",
       "      <td>0.431544</td>\n",
       "      <td>0.023696</td>\n",
       "      <td>0.220042</td>\n",
       "    </tr>\n",
       "    <tr>\n",
       "      <th>min</th>\n",
       "      <td>1.000000</td>\n",
       "      <td>1.000000</td>\n",
       "      <td>1.000000</td>\n",
       "      <td>1.000000</td>\n",
       "      <td>0.000000</td>\n",
       "      <td>0.000000</td>\n",
       "      <td>0.000000</td>\n",
       "      <td>0.000000</td>\n",
       "      <td>0.000000</td>\n",
       "      <td>0.000000</td>\n",
       "      <td>0.000000</td>\n",
       "      <td>0.000000</td>\n",
       "      <td>0.000000</td>\n",
       "      <td>0.000000</td>\n",
       "      <td>0.000000</td>\n",
       "      <td>0.000000</td>\n",
       "      <td>0.000000</td>\n",
       "    </tr>\n",
       "    <tr>\n",
       "      <th>25%</th>\n",
       "      <td>9791.000000</td>\n",
       "      <td>4.000000</td>\n",
       "      <td>5.000000</td>\n",
       "      <td>2.000000</td>\n",
       "      <td>0.000000</td>\n",
       "      <td>0.000000</td>\n",
       "      <td>0.000000</td>\n",
       "      <td>0.000000</td>\n",
       "      <td>0.000000</td>\n",
       "      <td>0.000000</td>\n",
       "      <td>0.000000</td>\n",
       "      <td>0.000000</td>\n",
       "      <td>0.000000</td>\n",
       "      <td>0.000000</td>\n",
       "      <td>0.000000</td>\n",
       "      <td>0.000000</td>\n",
       "      <td>0.000000</td>\n",
       "    </tr>\n",
       "    <tr>\n",
       "      <th>50%</th>\n",
       "      <td>19581.000000</td>\n",
       "      <td>6.000000</td>\n",
       "      <td>6.000000</td>\n",
       "      <td>2.000000</td>\n",
       "      <td>0.000000</td>\n",
       "      <td>0.000000</td>\n",
       "      <td>0.000000</td>\n",
       "      <td>0.000000</td>\n",
       "      <td>0.000000</td>\n",
       "      <td>0.000000</td>\n",
       "      <td>0.000000</td>\n",
       "      <td>0.000000</td>\n",
       "      <td>0.000000</td>\n",
       "      <td>0.000000</td>\n",
       "      <td>0.000000</td>\n",
       "      <td>0.000000</td>\n",
       "      <td>0.000000</td>\n",
       "    </tr>\n",
       "    <tr>\n",
       "      <th>75%</th>\n",
       "      <td>29371.000000</td>\n",
       "      <td>9.000000</td>\n",
       "      <td>8.000000</td>\n",
       "      <td>3.000000</td>\n",
       "      <td>1.000000</td>\n",
       "      <td>0.000000</td>\n",
       "      <td>0.000000</td>\n",
       "      <td>0.000000</td>\n",
       "      <td>0.000000</td>\n",
       "      <td>1.000000</td>\n",
       "      <td>1.000000</td>\n",
       "      <td>0.000000</td>\n",
       "      <td>0.000000</td>\n",
       "      <td>0.000000</td>\n",
       "      <td>0.000000</td>\n",
       "      <td>0.000000</td>\n",
       "      <td>0.000000</td>\n",
       "    </tr>\n",
       "    <tr>\n",
       "      <th>max</th>\n",
       "      <td>39161.000000</td>\n",
       "      <td>16.000000</td>\n",
       "      <td>15.000000</td>\n",
       "      <td>4.000000</td>\n",
       "      <td>3.000000</td>\n",
       "      <td>1.000000</td>\n",
       "      <td>1.000000</td>\n",
       "      <td>1.000000</td>\n",
       "      <td>2.000000</td>\n",
       "      <td>3.000000</td>\n",
       "      <td>2.000000</td>\n",
       "      <td>2.000000</td>\n",
       "      <td>1.000000</td>\n",
       "      <td>1.000000</td>\n",
       "      <td>4.000000</td>\n",
       "      <td>1.000000</td>\n",
       "      <td>1.000000</td>\n",
       "    </tr>\n",
       "  </tbody>\n",
       "</table>\n",
       "</div>"
      ],
      "text/plain": [
       "                 id  campaign_var_1  campaign_var_2  products_purchased  \\\n",
       "count  39161.000000    39161.000000    39161.000000        18250.000000   \n",
       "mean   19581.000000        6.523812        6.452746            2.154137   \n",
       "std    11304.951283        3.472944        2.614296            0.779815   \n",
       "min        1.000000        1.000000        1.000000            1.000000   \n",
       "25%     9791.000000        4.000000        5.000000            2.000000   \n",
       "50%    19581.000000        6.000000        6.000000            2.000000   \n",
       "75%    29371.000000        9.000000        8.000000            3.000000   \n",
       "max    39161.000000       16.000000       15.000000            4.000000   \n",
       "\n",
       "       user_activity_var_1  user_activity_var_2  user_activity_var_3  \\\n",
       "count         39161.000000         39161.000000         39161.000000   \n",
       "mean              0.400092             0.006716             0.102832   \n",
       "std               0.509194             0.081676             0.303743   \n",
       "min               0.000000             0.000000             0.000000   \n",
       "25%               0.000000             0.000000             0.000000   \n",
       "50%               0.000000             0.000000             0.000000   \n",
       "75%               1.000000             0.000000             0.000000   \n",
       "max               3.000000             1.000000             1.000000   \n",
       "\n",
       "       user_activity_var_4  user_activity_var_5  user_activity_var_6  \\\n",
       "count         39161.000000         39161.000000         39161.000000   \n",
       "mean              0.011465             0.151503             0.499834   \n",
       "std               0.106463             0.359681             0.558166   \n",
       "min               0.000000             0.000000             0.000000   \n",
       "25%               0.000000             0.000000             0.000000   \n",
       "50%               0.000000             0.000000             0.000000   \n",
       "75%               0.000000             0.000000             1.000000   \n",
       "max               1.000000             2.000000             3.000000   \n",
       "\n",
       "       user_activity_var_7  user_activity_var_8  user_activity_var_9  \\\n",
       "count         39161.000000         39161.000000         39161.000000   \n",
       "mean              0.286612             0.174434             0.011440   \n",
       "std               0.455784             0.379689             0.106346   \n",
       "min               0.000000             0.000000             0.000000   \n",
       "25%               0.000000             0.000000             0.000000   \n",
       "50%               0.000000             0.000000             0.000000   \n",
       "75%               1.000000             0.000000             0.000000   \n",
       "max               2.000000             2.000000             1.000000   \n",
       "\n",
       "       user_activity_var_10  user_activity_var_11  user_activity_var_12  \\\n",
       "count          39161.000000          39161.000000          39161.000000   \n",
       "mean               0.000383              0.218942              0.000562   \n",
       "std                0.019568              0.431544              0.023696   \n",
       "min                0.000000              0.000000              0.000000   \n",
       "25%                0.000000              0.000000              0.000000   \n",
       "50%                0.000000              0.000000              0.000000   \n",
       "75%                0.000000              0.000000              0.000000   \n",
       "max                1.000000              4.000000              1.000000   \n",
       "\n",
       "                buy  \n",
       "count  39161.000000  \n",
       "mean       0.051020  \n",
       "std        0.220042  \n",
       "min        0.000000  \n",
       "25%        0.000000  \n",
       "50%        0.000000  \n",
       "75%        0.000000  \n",
       "max        1.000000  "
      ]
     },
     "execution_count": 8,
     "metadata": {},
     "output_type": "execute_result"
    }
   ],
   "source": [
    "data.describe()"
   ]
  },
  {
   "cell_type": "markdown",
   "id": "509fe170",
   "metadata": {},
   "source": [
    "#### Imputing Null values for products_purchased column\n"
   ]
  },
  {
   "cell_type": "code",
   "execution_count": 9,
   "id": "8cf56e50",
   "metadata": {},
   "outputs": [
    {
     "data": {
      "text/plain": [
       "2.0    8867\n",
       "3.0    5024\n",
       "1.0    3643\n",
       "4.0     716\n",
       "Name: products_purchased, dtype: int64"
      ]
     },
     "execution_count": 9,
     "metadata": {},
     "output_type": "execute_result"
    }
   ],
   "source": [
    "data['products_purchased'].value_counts()"
   ]
  },
  {
   "cell_type": "markdown",
   "id": "ffd155fd",
   "metadata": {},
   "source": [
    "- Since this dataset contains information about leads and their potential conversion, it is safe to assume that the missing values under the column producs_purchased can be zero. Hence, replacing missing values with zero."
   ]
  },
  {
   "cell_type": "code",
   "execution_count": 10,
   "id": "fac6d4fa",
   "metadata": {},
   "outputs": [],
   "source": [
    "data['products_purchased'] = data['products_purchased'].fillna(value=0)"
   ]
  },
  {
   "cell_type": "code",
   "execution_count": 11,
   "id": "c672fb4e",
   "metadata": {},
   "outputs": [
    {
     "data": {
      "text/plain": [
       "0.0    20911\n",
       "2.0     8867\n",
       "3.0     5024\n",
       "1.0     3643\n",
       "4.0      716\n",
       "Name: products_purchased, dtype: int64"
      ]
     },
     "execution_count": 11,
     "metadata": {},
     "output_type": "execute_result"
    }
   ],
   "source": [
    "data['products_purchased'].value_counts()"
   ]
  },
  {
   "cell_type": "markdown",
   "id": "fa21b794",
   "metadata": {},
   "source": [
    "#### Imputing Null values for signup_date column\n",
    "\n",
    "- The number of missing values are 15113 which is 38.56% of the total data and hence, it cannot be dropped.\n",
    "- Further, it is difficult to replace the missing values with any other date value.\n",
    "- But the missing value may contain some pattern among themselves and so, we can add another column 'signup_na' signifying whether there is a missing value in this column or not."
   ]
  },
  {
   "cell_type": "code",
   "execution_count": 12,
   "id": "18c775c7",
   "metadata": {},
   "outputs": [
    {
     "data": {
      "text/plain": [
       "0.38591966497280455"
      ]
     },
     "execution_count": 12,
     "metadata": {},
     "output_type": "execute_result"
    }
   ],
   "source": [
    "data['signup_date'].isnull().sum()/len(data)"
   ]
  },
  {
   "cell_type": "code",
   "execution_count": 13,
   "id": "6f37118e",
   "metadata": {},
   "outputs": [],
   "source": [
    "data['signup_na'] = data['signup_date'].isnull().astype('int64')"
   ]
  },
  {
   "cell_type": "code",
   "execution_count": 14,
   "id": "7461cbf4",
   "metadata": {},
   "outputs": [
    {
     "data": {
      "text/plain": [
       "id                          0\n",
       "created_at                  0\n",
       "campaign_var_1              0\n",
       "campaign_var_2              0\n",
       "products_purchased          0\n",
       "signup_date             15113\n",
       "user_activity_var_1         0\n",
       "user_activity_var_2         0\n",
       "user_activity_var_3         0\n",
       "user_activity_var_4         0\n",
       "user_activity_var_5         0\n",
       "user_activity_var_6         0\n",
       "user_activity_var_7         0\n",
       "user_activity_var_8         0\n",
       "user_activity_var_9         0\n",
       "user_activity_var_10        0\n",
       "user_activity_var_11        0\n",
       "user_activity_var_12        0\n",
       "buy                         0\n",
       "signup_na                   0\n",
       "dtype: int64"
      ]
     },
     "execution_count": 14,
     "metadata": {},
     "output_type": "execute_result"
    }
   ],
   "source": [
    "data.isnull().sum()"
   ]
  },
  {
   "cell_type": "code",
   "execution_count": null,
   "id": "ebed0107",
   "metadata": {},
   "outputs": [],
   "source": []
  },
  {
   "cell_type": "markdown",
   "id": "8e2f11ef",
   "metadata": {},
   "source": [
    "### Exploratory Data Analysis"
   ]
  },
  {
   "cell_type": "markdown",
   "id": "e5de0c5e",
   "metadata": {},
   "source": [
    "Plotting various countplots as the columns contain discrete values and not continuous values."
   ]
  },
  {
   "cell_type": "code",
   "execution_count": 15,
   "id": "3a8fe897",
   "metadata": {},
   "outputs": [
    {
     "data": {
      "text/plain": [
       "Text(0, 0.5, 'Frequency')"
      ]
     },
     "execution_count": 15,
     "metadata": {},
     "output_type": "execute_result"
    },
    {
     "data": {
      "image/png": "[encoded data removed]",
      "text/plain": [
       "<Figure size 1584x432 with 3 Axes>"
      ]
     },
     "metadata": {
      "needs_background": "light"
     },
     "output_type": "display_data"
    }
   ],
   "source": [
    "plt.figure(figsize=(22, 6))\n",
    "#fig, axs = plt.subplot(ncols=2)\n",
    "\n",
    "# Passenger Count\n",
    "plt.subplot(131)\n",
    "sns.countplot(data['products_purchased'])\n",
    "plt.xlabel('Products purchased')\n",
    "plt.ylabel('Frequency')\n",
    "\n",
    "\n",
    "# vendor_id\n",
    "plt.subplot(132)\n",
    "sns.countplot(data['campaign_var_1'])\n",
    "plt.xlabel('campaign_var_1')\n",
    "plt.ylabel('Frequency')\n",
    "\n",
    "# store_and_fwd_flag\n",
    "plt.subplot(133)\n",
    "sns.countplot(data['campaign_var_2'])\n",
    "plt.xlabel('campaign_var_2')\n",
    "plt.ylabel('Frequency')\n"
   ]
  },
  {
   "cell_type": "markdown",
   "id": "92b26726",
   "metadata": {},
   "source": [
    "### Important points \n",
    "\n",
    "- 0 is the most frequent value in the products_purchased column which is quite intuitive as the conversion rate of leads is generally around 50% on an average.\n",
    "- It is surprising to see that 2 (and not 1) is the most commonly number of products purchased. There must be a product which is purchased with another product very frequently.\n",
    "- campaign_var_1 is approximately normally distributed with slight skewness towards right but not significant.\n",
    "- campaign_var_2 is a standard normal distribution."
   ]
  },
  {
   "cell_type": "code",
   "execution_count": 16,
   "id": "a0363242",
   "metadata": {},
   "outputs": [
    {
     "data": {
      "text/plain": [
       "Text(0, 0.5, 'Frequency')"
      ]
     },
     "execution_count": 16,
     "metadata": {},
     "output_type": "execute_result"
    },
    {
     "data": {
      "image/png": "[encoded data removed]",
      "text/plain": [
       "<Figure size 1728x1728 with 12 Axes>"
      ]
     },
     "metadata": {
      "needs_background": "light"
     },
     "output_type": "display_data"
    }
   ],
   "source": [
    "plt.figure(figsize=(24, 24))\n",
    "#fig, axes = plt.subplot(ncols=2)\n",
    "\n",
    "# Passenger Count\n",
    "plt.subplot(341)\n",
    "sns.countplot(data['user_activity_var_1'])\n",
    "plt.xlabel('user_activity_var_1')\n",
    "plt.ylabel('Frequency')\n",
    "\n",
    "\n",
    "# vendor_id\n",
    "plt.subplot(342)\n",
    "sns.countplot(data['user_activity_var_2'])\n",
    "plt.xlabel('user_activity_var_2')\n",
    "plt.ylabel('Frequency')\n",
    "\n",
    "# store_and_fwd_flag\n",
    "plt.subplot(343)\n",
    "sns.countplot(data['user_activity_var_3'])\n",
    "plt.xlabel('user_activity_var_3')\n",
    "plt.ylabel('Frequency')\n",
    "\n",
    "plt.subplot(344)\n",
    "sns.countplot(data['user_activity_var_4'])\n",
    "plt.xlabel('user_activity_var_4')\n",
    "plt.ylabel('Frequency')\n",
    "\n",
    "plt.subplot(345)\n",
    "sns.countplot(data['user_activity_var_5'])\n",
    "plt.xlabel('user_activity_var_5')\n",
    "plt.ylabel('Frequency')\n",
    "\n",
    "plt.subplot(346)\n",
    "sns.countplot(data['user_activity_var_6'])\n",
    "plt.xlabel('user_activity_var_6')\n",
    "plt.ylabel('Frequency')\n",
    "\n",
    "plt.subplot(347)\n",
    "sns.countplot(data['user_activity_var_7'])\n",
    "plt.xlabel('user_activity_var_7')\n",
    "plt.ylabel('Frequency')\n",
    "\n",
    "plt.subplot(348)\n",
    "sns.countplot(data['user_activity_var_8'])\n",
    "plt.xlabel('user_activity_var_8')\n",
    "plt.ylabel('Frequency')\n",
    "\n",
    "\n",
    "plt.subplot(349)\n",
    "sns.countplot(data['user_activity_var_9'])\n",
    "plt.xlabel('user_activity_var_9')\n",
    "plt.ylabel('Frequency')\n",
    "\n",
    "plt.subplot(3,4,10)\n",
    "sns.countplot(data['user_activity_var_10'])\n",
    "plt.xlabel('user_activity_var_10')\n",
    "plt.ylabel('Frequency')\n",
    "\n",
    "plt.subplot(3,4,11)\n",
    "sns.countplot(data['user_activity_var_11'])\n",
    "plt.xlabel('user_activity_var_11')\n",
    "plt.ylabel('Frequency')\n",
    "\n",
    "plt.subplot(3,4,12)\n",
    "sns.countplot(data['user_activity_var_12'])\n",
    "plt.xlabel('user_activity_var_12')\n",
    "plt.ylabel('Frequency')"
   ]
  },
  {
   "cell_type": "markdown",
   "id": "7924d02d",
   "metadata": {},
   "source": [
    "### Important points\n",
    "\n",
    "- All the user activity variables consists of few discrete values\n",
    "- variables 2, 3, 4, 9, 10 and 12 contain only two possible values (0 and 1) which are heavily dominated by zero values.\n",
    "- variables 5, 7 and 8 contain three distinct values (0, 1 and 2) where 2 are very few. It is again dominated by zeros.\n",
    "- variables 1 and 6 contain 4 distinct values (0, 1, 2, and 3) where 0 and 1 values are significant and dominates. Values 2 is very few.\n",
    "- variable 11 contains 5 distinct values where 3 and 4 are very few. "
   ]
  },
  {
   "cell_type": "code",
   "execution_count": 17,
   "id": "42b7aef7",
   "metadata": {},
   "outputs": [
    {
     "data": {
      "text/plain": [
       "<AxesSubplot:>"
      ]
     },
     "execution_count": 17,
     "metadata": {},
     "output_type": "execute_result"
    },
    {
     "data": {
      "image/png": "[encoded data removed]",
      "text/plain": [
       "<Figure size 432x288 with 2 Axes>"
      ]
     },
     "metadata": {
      "needs_background": "light"
     },
     "output_type": "display_data"
    }
   ],
   "source": [
    "sns.heatmap(data.corr())"
   ]
  },
  {
   "cell_type": "code",
   "execution_count": 18,
   "id": "a09bc8d7",
   "metadata": {},
   "outputs": [
    {
     "data": {
      "text/html": [
       "<div>\n",
       "<style scoped>\n",
       "    .dataframe tbody tr th:only-of-type {\n",
       "        vertical-align: middle;\n",
       "    }\n",
       "\n",
       "    .dataframe tbody tr th {\n",
       "        vertical-align: top;\n",
       "    }\n",
       "\n",
       "    .dataframe thead th {\n",
       "        text-align: right;\n",
       "    }\n",
       "</style>\n",
       "<table border=\"1\" class=\"dataframe\">\n",
       "  <thead>\n",
       "    <tr style=\"text-align: right;\">\n",
       "      <th></th>\n",
       "      <th>id</th>\n",
       "      <th>campaign_var_1</th>\n",
       "      <th>campaign_var_2</th>\n",
       "      <th>products_purchased</th>\n",
       "      <th>user_activity_var_1</th>\n",
       "      <th>user_activity_var_2</th>\n",
       "      <th>user_activity_var_3</th>\n",
       "      <th>user_activity_var_4</th>\n",
       "      <th>user_activity_var_5</th>\n",
       "      <th>user_activity_var_6</th>\n",
       "      <th>user_activity_var_7</th>\n",
       "      <th>user_activity_var_8</th>\n",
       "      <th>user_activity_var_9</th>\n",
       "      <th>user_activity_var_10</th>\n",
       "      <th>user_activity_var_11</th>\n",
       "      <th>user_activity_var_12</th>\n",
       "      <th>buy</th>\n",
       "      <th>signup_na</th>\n",
       "    </tr>\n",
       "  </thead>\n",
       "  <tbody>\n",
       "    <tr>\n",
       "      <th>id</th>\n",
       "      <td>1.000000</td>\n",
       "      <td>0.143723</td>\n",
       "      <td>0.222746</td>\n",
       "      <td>-0.078714</td>\n",
       "      <td>0.012223</td>\n",
       "      <td>-0.011075</td>\n",
       "      <td>-0.000572</td>\n",
       "      <td>-0.015203</td>\n",
       "      <td>-0.006575</td>\n",
       "      <td>0.013992</td>\n",
       "      <td>0.016137</td>\n",
       "      <td>-0.035218</td>\n",
       "      <td>-0.019808</td>\n",
       "      <td>0.001002</td>\n",
       "      <td>0.025785</td>\n",
       "      <td>-0.009223</td>\n",
       "      <td>-0.020762</td>\n",
       "      <td>0.100583</td>\n",
       "    </tr>\n",
       "    <tr>\n",
       "      <th>campaign_var_1</th>\n",
       "      <td>0.143723</td>\n",
       "      <td>1.000000</td>\n",
       "      <td>0.561489</td>\n",
       "      <td>-0.114655</td>\n",
       "      <td>0.024100</td>\n",
       "      <td>-0.034548</td>\n",
       "      <td>-0.012670</td>\n",
       "      <td>-0.033510</td>\n",
       "      <td>-0.023116</td>\n",
       "      <td>0.029665</td>\n",
       "      <td>-0.072600</td>\n",
       "      <td>-0.014276</td>\n",
       "      <td>-0.058264</td>\n",
       "      <td>-0.004831</td>\n",
       "      <td>-0.022000</td>\n",
       "      <td>-0.006369</td>\n",
       "      <td>-0.087202</td>\n",
       "      <td>0.143211</td>\n",
       "    </tr>\n",
       "    <tr>\n",
       "      <th>campaign_var_2</th>\n",
       "      <td>0.222746</td>\n",
       "      <td>0.561489</td>\n",
       "      <td>1.000000</td>\n",
       "      <td>-0.072100</td>\n",
       "      <td>-0.032969</td>\n",
       "      <td>-0.039833</td>\n",
       "      <td>-0.008046</td>\n",
       "      <td>-0.038928</td>\n",
       "      <td>-0.030990</td>\n",
       "      <td>0.067304</td>\n",
       "      <td>-0.053462</td>\n",
       "      <td>-0.033848</td>\n",
       "      <td>-0.057942</td>\n",
       "      <td>-0.009879</td>\n",
       "      <td>-0.003890</td>\n",
       "      <td>-0.008228</td>\n",
       "      <td>-0.080064</td>\n",
       "      <td>0.162438</td>\n",
       "    </tr>\n",
       "    <tr>\n",
       "      <th>products_purchased</th>\n",
       "      <td>-0.078714</td>\n",
       "      <td>-0.114655</td>\n",
       "      <td>-0.072100</td>\n",
       "      <td>1.000000</td>\n",
       "      <td>-0.025418</td>\n",
       "      <td>0.004166</td>\n",
       "      <td>0.015239</td>\n",
       "      <td>0.004052</td>\n",
       "      <td>0.012253</td>\n",
       "      <td>0.011332</td>\n",
       "      <td>0.026557</td>\n",
       "      <td>-0.056785</td>\n",
       "      <td>0.013268</td>\n",
       "      <td>0.008642</td>\n",
       "      <td>0.010743</td>\n",
       "      <td>-0.000975</td>\n",
       "      <td>0.005830</td>\n",
       "      <td>-0.299612</td>\n",
       "    </tr>\n",
       "    <tr>\n",
       "      <th>user_activity_var_1</th>\n",
       "      <td>0.012223</td>\n",
       "      <td>0.024100</td>\n",
       "      <td>-0.032969</td>\n",
       "      <td>-0.025418</td>\n",
       "      <td>1.000000</td>\n",
       "      <td>0.014599</td>\n",
       "      <td>-0.025950</td>\n",
       "      <td>0.016656</td>\n",
       "      <td>-0.015441</td>\n",
       "      <td>-0.190784</td>\n",
       "      <td>-0.085343</td>\n",
       "      <td>-0.047157</td>\n",
       "      <td>0.034783</td>\n",
       "      <td>0.012811</td>\n",
       "      <td>-0.062915</td>\n",
       "      <td>0.002535</td>\n",
       "      <td>0.044811</td>\n",
       "      <td>0.021161</td>\n",
       "    </tr>\n",
       "    <tr>\n",
       "      <th>user_activity_var_2</th>\n",
       "      <td>-0.011075</td>\n",
       "      <td>-0.034548</td>\n",
       "      <td>-0.039833</td>\n",
       "      <td>0.004166</td>\n",
       "      <td>0.014599</td>\n",
       "      <td>1.000000</td>\n",
       "      <td>-0.001075</td>\n",
       "      <td>0.132108</td>\n",
       "      <td>0.060982</td>\n",
       "      <td>-0.005297</td>\n",
       "      <td>-0.020153</td>\n",
       "      <td>-0.035306</td>\n",
       "      <td>0.155794</td>\n",
       "      <td>0.046324</td>\n",
       "      <td>0.085794</td>\n",
       "      <td>0.024440</td>\n",
       "      <td>0.354627</td>\n",
       "      <td>-0.061332</td>\n",
       "    </tr>\n",
       "    <tr>\n",
       "      <th>user_activity_var_3</th>\n",
       "      <td>-0.000572</td>\n",
       "      <td>-0.012670</td>\n",
       "      <td>-0.008046</td>\n",
       "      <td>0.015239</td>\n",
       "      <td>-0.025950</td>\n",
       "      <td>-0.001075</td>\n",
       "      <td>1.000000</td>\n",
       "      <td>0.003023</td>\n",
       "      <td>0.023117</td>\n",
       "      <td>-0.050132</td>\n",
       "      <td>-0.006306</td>\n",
       "      <td>-0.025562</td>\n",
       "      <td>0.003898</td>\n",
       "      <td>0.019152</td>\n",
       "      <td>-0.027212</td>\n",
       "      <td>0.013261</td>\n",
       "      <td>0.005174</td>\n",
       "      <td>-0.022468</td>\n",
       "    </tr>\n",
       "    <tr>\n",
       "      <th>user_activity_var_4</th>\n",
       "      <td>-0.015203</td>\n",
       "      <td>-0.033510</td>\n",
       "      <td>-0.038928</td>\n",
       "      <td>0.004052</td>\n",
       "      <td>0.016656</td>\n",
       "      <td>0.132108</td>\n",
       "      <td>0.003023</td>\n",
       "      <td>1.000000</td>\n",
       "      <td>0.071339</td>\n",
       "      <td>-0.021669</td>\n",
       "      <td>-0.004572</td>\n",
       "      <td>-0.039370</td>\n",
       "      <td>0.204941</td>\n",
       "      <td>0.046924</td>\n",
       "      <td>0.067085</td>\n",
       "      <td>0.037937</td>\n",
       "      <td>0.394706</td>\n",
       "      <td>-0.076015</td>\n",
       "    </tr>\n",
       "    <tr>\n",
       "      <th>user_activity_var_5</th>\n",
       "      <td>-0.006575</td>\n",
       "      <td>-0.023116</td>\n",
       "      <td>-0.030990</td>\n",
       "      <td>0.012253</td>\n",
       "      <td>-0.015441</td>\n",
       "      <td>0.060982</td>\n",
       "      <td>0.023117</td>\n",
       "      <td>0.071339</td>\n",
       "      <td>1.000000</td>\n",
       "      <td>-0.078928</td>\n",
       "      <td>-0.007705</td>\n",
       "      <td>-0.031585</td>\n",
       "      <td>0.074189</td>\n",
       "      <td>0.028037</td>\n",
       "      <td>0.021225</td>\n",
       "      <td>0.022972</td>\n",
       "      <td>0.164972</td>\n",
       "      <td>-0.034952</td>\n",
       "    </tr>\n",
       "    <tr>\n",
       "      <th>user_activity_var_6</th>\n",
       "      <td>0.013992</td>\n",
       "      <td>0.029665</td>\n",
       "      <td>0.067304</td>\n",
       "      <td>0.011332</td>\n",
       "      <td>-0.190784</td>\n",
       "      <td>-0.005297</td>\n",
       "      <td>-0.050132</td>\n",
       "      <td>-0.021669</td>\n",
       "      <td>-0.078928</td>\n",
       "      <td>1.000000</td>\n",
       "      <td>-0.169651</td>\n",
       "      <td>-0.062460</td>\n",
       "      <td>-0.013304</td>\n",
       "      <td>0.001175</td>\n",
       "      <td>-0.076816</td>\n",
       "      <td>0.001938</td>\n",
       "      <td>-0.010951</td>\n",
       "      <td>-0.035805</td>\n",
       "    </tr>\n",
       "    <tr>\n",
       "      <th>user_activity_var_7</th>\n",
       "      <td>0.016137</td>\n",
       "      <td>-0.072600</td>\n",
       "      <td>-0.053462</td>\n",
       "      <td>0.026557</td>\n",
       "      <td>-0.085343</td>\n",
       "      <td>-0.020153</td>\n",
       "      <td>-0.006306</td>\n",
       "      <td>-0.004572</td>\n",
       "      <td>-0.007705</td>\n",
       "      <td>-0.169651</td>\n",
       "      <td>1.000000</td>\n",
       "      <td>-0.035982</td>\n",
       "      <td>-0.010222</td>\n",
       "      <td>0.002007</td>\n",
       "      <td>-0.063410</td>\n",
       "      <td>0.006371</td>\n",
       "      <td>-0.028428</td>\n",
       "      <td>-0.042878</td>\n",
       "    </tr>\n",
       "    <tr>\n",
       "      <th>user_activity_var_8</th>\n",
       "      <td>-0.035218</td>\n",
       "      <td>-0.014276</td>\n",
       "      <td>-0.033848</td>\n",
       "      <td>-0.056785</td>\n",
       "      <td>-0.047157</td>\n",
       "      <td>-0.035306</td>\n",
       "      <td>-0.025562</td>\n",
       "      <td>-0.039370</td>\n",
       "      <td>-0.031585</td>\n",
       "      <td>-0.062460</td>\n",
       "      <td>-0.035982</td>\n",
       "      <td>1.000000</td>\n",
       "      <td>-0.042465</td>\n",
       "      <td>-0.008993</td>\n",
       "      <td>-0.035003</td>\n",
       "      <td>-0.002377</td>\n",
       "      <td>-0.097355</td>\n",
       "      <td>0.129006</td>\n",
       "    </tr>\n",
       "    <tr>\n",
       "      <th>user_activity_var_9</th>\n",
       "      <td>-0.019808</td>\n",
       "      <td>-0.058264</td>\n",
       "      <td>-0.057942</td>\n",
       "      <td>0.013268</td>\n",
       "      <td>0.034783</td>\n",
       "      <td>0.155794</td>\n",
       "      <td>0.003898</td>\n",
       "      <td>0.204941</td>\n",
       "      <td>0.074189</td>\n",
       "      <td>-0.013304</td>\n",
       "      <td>-0.010222</td>\n",
       "      <td>-0.042465</td>\n",
       "      <td>1.000000</td>\n",
       "      <td>0.046980</td>\n",
       "      <td>0.120698</td>\n",
       "      <td>0.027851</td>\n",
       "      <td>0.463947</td>\n",
       "      <td>-0.082814</td>\n",
       "    </tr>\n",
       "    <tr>\n",
       "      <th>user_activity_var_10</th>\n",
       "      <td>0.001002</td>\n",
       "      <td>-0.004831</td>\n",
       "      <td>-0.009879</td>\n",
       "      <td>0.008642</td>\n",
       "      <td>0.012811</td>\n",
       "      <td>0.046324</td>\n",
       "      <td>0.019152</td>\n",
       "      <td>0.046924</td>\n",
       "      <td>0.028037</td>\n",
       "      <td>0.001175</td>\n",
       "      <td>0.002007</td>\n",
       "      <td>-0.008993</td>\n",
       "      <td>0.046980</td>\n",
       "      <td>1.000000</td>\n",
       "      <td>0.017285</td>\n",
       "      <td>-0.000464</td>\n",
       "      <td>0.084423</td>\n",
       "      <td>-0.015518</td>\n",
       "    </tr>\n",
       "    <tr>\n",
       "      <th>user_activity_var_11</th>\n",
       "      <td>0.025785</td>\n",
       "      <td>-0.022000</td>\n",
       "      <td>-0.003890</td>\n",
       "      <td>0.010743</td>\n",
       "      <td>-0.062915</td>\n",
       "      <td>0.085794</td>\n",
       "      <td>-0.027212</td>\n",
       "      <td>0.067085</td>\n",
       "      <td>0.021225</td>\n",
       "      <td>-0.076816</td>\n",
       "      <td>-0.063410</td>\n",
       "      <td>-0.035003</td>\n",
       "      <td>0.120698</td>\n",
       "      <td>0.017285</td>\n",
       "      <td>1.000000</td>\n",
       "      <td>0.017938</td>\n",
       "      <td>0.267995</td>\n",
       "      <td>-0.056750</td>\n",
       "    </tr>\n",
       "    <tr>\n",
       "      <th>user_activity_var_12</th>\n",
       "      <td>-0.009223</td>\n",
       "      <td>-0.006369</td>\n",
       "      <td>-0.008228</td>\n",
       "      <td>-0.000975</td>\n",
       "      <td>0.002535</td>\n",
       "      <td>0.024440</td>\n",
       "      <td>0.013261</td>\n",
       "      <td>0.037937</td>\n",
       "      <td>0.022972</td>\n",
       "      <td>0.001938</td>\n",
       "      <td>0.006371</td>\n",
       "      <td>-0.002377</td>\n",
       "      <td>0.027851</td>\n",
       "      <td>-0.000464</td>\n",
       "      <td>0.017938</td>\n",
       "      <td>1.000000</td>\n",
       "      <td>0.067967</td>\n",
       "      <td>-0.007726</td>\n",
       "    </tr>\n",
       "    <tr>\n",
       "      <th>buy</th>\n",
       "      <td>-0.020762</td>\n",
       "      <td>-0.087202</td>\n",
       "      <td>-0.080064</td>\n",
       "      <td>0.005830</td>\n",
       "      <td>0.044811</td>\n",
       "      <td>0.354627</td>\n",
       "      <td>0.005174</td>\n",
       "      <td>0.394706</td>\n",
       "      <td>0.164972</td>\n",
       "      <td>-0.010951</td>\n",
       "      <td>-0.028428</td>\n",
       "      <td>-0.097355</td>\n",
       "      <td>0.463947</td>\n",
       "      <td>0.084423</td>\n",
       "      <td>0.267995</td>\n",
       "      <td>0.067967</td>\n",
       "      <td>1.000000</td>\n",
       "      <td>-0.177854</td>\n",
       "    </tr>\n",
       "    <tr>\n",
       "      <th>signup_na</th>\n",
       "      <td>0.100583</td>\n",
       "      <td>0.143211</td>\n",
       "      <td>0.162438</td>\n",
       "      <td>-0.299612</td>\n",
       "      <td>0.021161</td>\n",
       "      <td>-0.061332</td>\n",
       "      <td>-0.022468</td>\n",
       "      <td>-0.076015</td>\n",
       "      <td>-0.034952</td>\n",
       "      <td>-0.035805</td>\n",
       "      <td>-0.042878</td>\n",
       "      <td>0.129006</td>\n",
       "      <td>-0.082814</td>\n",
       "      <td>-0.015518</td>\n",
       "      <td>-0.056750</td>\n",
       "      <td>-0.007726</td>\n",
       "      <td>-0.177854</td>\n",
       "      <td>1.000000</td>\n",
       "    </tr>\n",
       "  </tbody>\n",
       "</table>\n",
       "</div>"
      ],
      "text/plain": [
       "                            id  campaign_var_1  campaign_var_2  \\\n",
       "id                    1.000000        0.143723        0.222746   \n",
       "campaign_var_1        0.143723        1.000000        0.561489   \n",
       "campaign_var_2        0.222746        0.561489        1.000000   \n",
       "products_purchased   -0.078714       -0.114655       -0.072100   \n",
       "user_activity_var_1   0.012223        0.024100       -0.032969   \n",
       "user_activity_var_2  -0.011075       -0.034548       -0.039833   \n",
       "user_activity_var_3  -0.000572       -0.012670       -0.008046   \n",
       "user_activity_var_4  -0.015203       -0.033510       -0.038928   \n",
       "user_activity_var_5  -0.006575       -0.023116       -0.030990   \n",
       "user_activity_var_6   0.013992        0.029665        0.067304   \n",
       "user_activity_var_7   0.016137       -0.072600       -0.053462   \n",
       "user_activity_var_8  -0.035218       -0.014276       -0.033848   \n",
       "user_activity_var_9  -0.019808       -0.058264       -0.057942   \n",
       "user_activity_var_10  0.001002       -0.004831       -0.009879   \n",
       "user_activity_var_11  0.025785       -0.022000       -0.003890   \n",
       "user_activity_var_12 -0.009223       -0.006369       -0.008228   \n",
       "buy                  -0.020762       -0.087202       -0.080064   \n",
       "signup_na             0.100583        0.143211        0.162438   \n",
       "\n",
       "                      products_purchased  user_activity_var_1  \\\n",
       "id                             -0.078714             0.012223   \n",
       "campaign_var_1                 -0.114655             0.024100   \n",
       "campaign_var_2                 -0.072100            -0.032969   \n",
       "products_purchased              1.000000            -0.025418   \n",
       "user_activity_var_1            -0.025418             1.000000   \n",
       "user_activity_var_2             0.004166             0.014599   \n",
       "user_activity_var_3             0.015239            -0.025950   \n",
       "user_activity_var_4             0.004052             0.016656   \n",
       "user_activity_var_5             0.012253            -0.015441   \n",
       "user_activity_var_6             0.011332            -0.190784   \n",
       "user_activity_var_7             0.026557            -0.085343   \n",
       "user_activity_var_8            -0.056785            -0.047157   \n",
       "user_activity_var_9             0.013268             0.034783   \n",
       "user_activity_var_10            0.008642             0.012811   \n",
       "user_activity_var_11            0.010743            -0.062915   \n",
       "user_activity_var_12           -0.000975             0.002535   \n",
       "buy                             0.005830             0.044811   \n",
       "signup_na                      -0.299612             0.021161   \n",
       "\n",
       "                      user_activity_var_2  user_activity_var_3  \\\n",
       "id                              -0.011075            -0.000572   \n",
       "campaign_var_1                  -0.034548            -0.012670   \n",
       "campaign_var_2                  -0.039833            -0.008046   \n",
       "products_purchased               0.004166             0.015239   \n",
       "user_activity_var_1              0.014599            -0.025950   \n",
       "user_activity_var_2              1.000000            -0.001075   \n",
       "user_activity_var_3             -0.001075             1.000000   \n",
       "user_activity_var_4              0.132108             0.003023   \n",
       "user_activity_var_5              0.060982             0.023117   \n",
       "user_activity_var_6             -0.005297            -0.050132   \n",
       "user_activity_var_7             -0.020153            -0.006306   \n",
       "user_activity_var_8             -0.035306            -0.025562   \n",
       "user_activity_var_9              0.155794             0.003898   \n",
       "user_activity_var_10             0.046324             0.019152   \n",
       "user_activity_var_11             0.085794            -0.027212   \n",
       "user_activity_var_12             0.024440             0.013261   \n",
       "buy                              0.354627             0.005174   \n",
       "signup_na                       -0.061332            -0.022468   \n",
       "\n",
       "                      user_activity_var_4  user_activity_var_5  \\\n",
       "id                              -0.015203            -0.006575   \n",
       "campaign_var_1                  -0.033510            -0.023116   \n",
       "campaign_var_2                  -0.038928            -0.030990   \n",
       "products_purchased               0.004052             0.012253   \n",
       "user_activity_var_1              0.016656            -0.015441   \n",
       "user_activity_var_2              0.132108             0.060982   \n",
       "user_activity_var_3              0.003023             0.023117   \n",
       "user_activity_var_4              1.000000             0.071339   \n",
       "user_activity_var_5              0.071339             1.000000   \n",
       "user_activity_var_6             -0.021669            -0.078928   \n",
       "user_activity_var_7             -0.004572            -0.007705   \n",
       "user_activity_var_8             -0.039370            -0.031585   \n",
       "user_activity_var_9              0.204941             0.074189   \n",
       "user_activity_var_10             0.046924             0.028037   \n",
       "user_activity_var_11             0.067085             0.021225   \n",
       "user_activity_var_12             0.037937             0.022972   \n",
       "buy                              0.394706             0.164972   \n",
       "signup_na                       -0.076015            -0.034952   \n",
       "\n",
       "                      user_activity_var_6  user_activity_var_7  \\\n",
       "id                               0.013992             0.016137   \n",
       "campaign_var_1                   0.029665            -0.072600   \n",
       "campaign_var_2                   0.067304            -0.053462   \n",
       "products_purchased               0.011332             0.026557   \n",
       "user_activity_var_1             -0.190784            -0.085343   \n",
       "user_activity_var_2             -0.005297            -0.020153   \n",
       "user_activity_var_3             -0.050132            -0.006306   \n",
       "user_activity_var_4             -0.021669            -0.004572   \n",
       "user_activity_var_5             -0.078928            -0.007705   \n",
       "user_activity_var_6              1.000000            -0.169651   \n",
       "user_activity_var_7             -0.169651             1.000000   \n",
       "user_activity_var_8             -0.062460            -0.035982   \n",
       "user_activity_var_9             -0.013304            -0.010222   \n",
       "user_activity_var_10             0.001175             0.002007   \n",
       "user_activity_var_11            -0.076816            -0.063410   \n",
       "user_activity_var_12             0.001938             0.006371   \n",
       "buy                             -0.010951            -0.028428   \n",
       "signup_na                       -0.035805            -0.042878   \n",
       "\n",
       "                      user_activity_var_8  user_activity_var_9  \\\n",
       "id                              -0.035218            -0.019808   \n",
       "campaign_var_1                  -0.014276            -0.058264   \n",
       "campaign_var_2                  -0.033848            -0.057942   \n",
       "products_purchased              -0.056785             0.013268   \n",
       "user_activity_var_1             -0.047157             0.034783   \n",
       "user_activity_var_2             -0.035306             0.155794   \n",
       "user_activity_var_3             -0.025562             0.003898   \n",
       "user_activity_var_4             -0.039370             0.204941   \n",
       "user_activity_var_5             -0.031585             0.074189   \n",
       "user_activity_var_6             -0.062460            -0.013304   \n",
       "user_activity_var_7             -0.035982            -0.010222   \n",
       "user_activity_var_8              1.000000            -0.042465   \n",
       "user_activity_var_9             -0.042465             1.000000   \n",
       "user_activity_var_10            -0.008993             0.046980   \n",
       "user_activity_var_11            -0.035003             0.120698   \n",
       "user_activity_var_12            -0.002377             0.027851   \n",
       "buy                             -0.097355             0.463947   \n",
       "signup_na                        0.129006            -0.082814   \n",
       "\n",
       "                      user_activity_var_10  user_activity_var_11  \\\n",
       "id                                0.001002              0.025785   \n",
       "campaign_var_1                   -0.004831             -0.022000   \n",
       "campaign_var_2                   -0.009879             -0.003890   \n",
       "products_purchased                0.008642              0.010743   \n",
       "user_activity_var_1               0.012811             -0.062915   \n",
       "user_activity_var_2               0.046324              0.085794   \n",
       "user_activity_var_3               0.019152             -0.027212   \n",
       "user_activity_var_4               0.046924              0.067085   \n",
       "user_activity_var_5               0.028037              0.021225   \n",
       "user_activity_var_6               0.001175             -0.076816   \n",
       "user_activity_var_7               0.002007             -0.063410   \n",
       "user_activity_var_8              -0.008993             -0.035003   \n",
       "user_activity_var_9               0.046980              0.120698   \n",
       "user_activity_var_10              1.000000              0.017285   \n",
       "user_activity_var_11              0.017285              1.000000   \n",
       "user_activity_var_12             -0.000464              0.017938   \n",
       "buy                               0.084423              0.267995   \n",
       "signup_na                        -0.015518             -0.056750   \n",
       "\n",
       "                      user_activity_var_12       buy  signup_na  \n",
       "id                               -0.009223 -0.020762   0.100583  \n",
       "campaign_var_1                   -0.006369 -0.087202   0.143211  \n",
       "campaign_var_2                   -0.008228 -0.080064   0.162438  \n",
       "products_purchased               -0.000975  0.005830  -0.299612  \n",
       "user_activity_var_1               0.002535  0.044811   0.021161  \n",
       "user_activity_var_2               0.024440  0.354627  -0.061332  \n",
       "user_activity_var_3               0.013261  0.005174  -0.022468  \n",
       "user_activity_var_4               0.037937  0.394706  -0.076015  \n",
       "user_activity_var_5               0.022972  0.164972  -0.034952  \n",
       "user_activity_var_6               0.001938 -0.010951  -0.035805  \n",
       "user_activity_var_7               0.006371 -0.028428  -0.042878  \n",
       "user_activity_var_8              -0.002377 -0.097355   0.129006  \n",
       "user_activity_var_9               0.027851  0.463947  -0.082814  \n",
       "user_activity_var_10             -0.000464  0.084423  -0.015518  \n",
       "user_activity_var_11              0.017938  0.267995  -0.056750  \n",
       "user_activity_var_12              1.000000  0.067967  -0.007726  \n",
       "buy                               0.067967  1.000000  -0.177854  \n",
       "signup_na                        -0.007726 -0.177854   1.000000  "
      ]
     },
     "execution_count": 18,
     "metadata": {},
     "output_type": "execute_result"
    }
   ],
   "source": [
    "data.corr()"
   ]
  },
  {
   "cell_type": "code",
   "execution_count": 19,
   "id": "a3db2b03",
   "metadata": {},
   "outputs": [
    {
     "data": {
      "text/html": [
       "<div>\n",
       "<style scoped>\n",
       "    .dataframe tbody tr th:only-of-type {\n",
       "        vertical-align: middle;\n",
       "    }\n",
       "\n",
       "    .dataframe tbody tr th {\n",
       "        vertical-align: top;\n",
       "    }\n",
       "\n",
       "    .dataframe thead th {\n",
       "        text-align: right;\n",
       "    }\n",
       "</style>\n",
       "<table border=\"1\" class=\"dataframe\">\n",
       "  <thead>\n",
       "    <tr style=\"text-align: right;\">\n",
       "      <th></th>\n",
       "      <th>id</th>\n",
       "      <th>created_at</th>\n",
       "      <th>campaign_var_1</th>\n",
       "      <th>campaign_var_2</th>\n",
       "      <th>products_purchased</th>\n",
       "      <th>signup_date</th>\n",
       "      <th>user_activity_var_1</th>\n",
       "      <th>user_activity_var_2</th>\n",
       "      <th>user_activity_var_3</th>\n",
       "      <th>user_activity_var_4</th>\n",
       "      <th>user_activity_var_5</th>\n",
       "      <th>user_activity_var_6</th>\n",
       "      <th>user_activity_var_7</th>\n",
       "      <th>user_activity_var_8</th>\n",
       "      <th>user_activity_var_9</th>\n",
       "      <th>user_activity_var_10</th>\n",
       "      <th>user_activity_var_11</th>\n",
       "      <th>user_activity_var_12</th>\n",
       "      <th>buy</th>\n",
       "      <th>signup_na</th>\n",
       "    </tr>\n",
       "  </thead>\n",
       "  <tbody>\n",
       "    <tr>\n",
       "      <th>0</th>\n",
       "      <td>1</td>\n",
       "      <td>2021-01-01</td>\n",
       "      <td>1</td>\n",
       "      <td>2</td>\n",
       "      <td>2.0</td>\n",
       "      <td>2020-09-24</td>\n",
       "      <td>0</td>\n",
       "      <td>0</td>\n",
       "      <td>0</td>\n",
       "      <td>0</td>\n",
       "      <td>0</td>\n",
       "      <td>0</td>\n",
       "      <td>1</td>\n",
       "      <td>1</td>\n",
       "      <td>0</td>\n",
       "      <td>0</td>\n",
       "      <td>0</td>\n",
       "      <td>0</td>\n",
       "      <td>0</td>\n",
       "      <td>0</td>\n",
       "    </tr>\n",
       "    <tr>\n",
       "      <th>1</th>\n",
       "      <td>2</td>\n",
       "      <td>2021-01-01</td>\n",
       "      <td>2</td>\n",
       "      <td>1</td>\n",
       "      <td>2.0</td>\n",
       "      <td>2020-09-19</td>\n",
       "      <td>1</td>\n",
       "      <td>0</td>\n",
       "      <td>1</td>\n",
       "      <td>0</td>\n",
       "      <td>0</td>\n",
       "      <td>0</td>\n",
       "      <td>1</td>\n",
       "      <td>0</td>\n",
       "      <td>0</td>\n",
       "      <td>0</td>\n",
       "      <td>0</td>\n",
       "      <td>0</td>\n",
       "      <td>0</td>\n",
       "      <td>0</td>\n",
       "    </tr>\n",
       "    <tr>\n",
       "      <th>2</th>\n",
       "      <td>3</td>\n",
       "      <td>2021-01-01</td>\n",
       "      <td>9</td>\n",
       "      <td>3</td>\n",
       "      <td>3.0</td>\n",
       "      <td>2021-08-11</td>\n",
       "      <td>1</td>\n",
       "      <td>0</td>\n",
       "      <td>0</td>\n",
       "      <td>0</td>\n",
       "      <td>0</td>\n",
       "      <td>0</td>\n",
       "      <td>0</td>\n",
       "      <td>0</td>\n",
       "      <td>0</td>\n",
       "      <td>0</td>\n",
       "      <td>0</td>\n",
       "      <td>0</td>\n",
       "      <td>0</td>\n",
       "      <td>0</td>\n",
       "    </tr>\n",
       "    <tr>\n",
       "      <th>3</th>\n",
       "      <td>4</td>\n",
       "      <td>2021-01-01</td>\n",
       "      <td>6</td>\n",
       "      <td>7</td>\n",
       "      <td>2.0</td>\n",
       "      <td>2017-10-04</td>\n",
       "      <td>0</td>\n",
       "      <td>0</td>\n",
       "      <td>0</td>\n",
       "      <td>0</td>\n",
       "      <td>0</td>\n",
       "      <td>0</td>\n",
       "      <td>0</td>\n",
       "      <td>0</td>\n",
       "      <td>0</td>\n",
       "      <td>0</td>\n",
       "      <td>0</td>\n",
       "      <td>0</td>\n",
       "      <td>0</td>\n",
       "      <td>0</td>\n",
       "    </tr>\n",
       "    <tr>\n",
       "      <th>4</th>\n",
       "      <td>5</td>\n",
       "      <td>2021-01-01</td>\n",
       "      <td>4</td>\n",
       "      <td>6</td>\n",
       "      <td>0.0</td>\n",
       "      <td>2020-06-08</td>\n",
       "      <td>0</td>\n",
       "      <td>0</td>\n",
       "      <td>0</td>\n",
       "      <td>0</td>\n",
       "      <td>0</td>\n",
       "      <td>0</td>\n",
       "      <td>1</td>\n",
       "      <td>0</td>\n",
       "      <td>0</td>\n",
       "      <td>0</td>\n",
       "      <td>1</td>\n",
       "      <td>0</td>\n",
       "      <td>0</td>\n",
       "      <td>0</td>\n",
       "    </tr>\n",
       "  </tbody>\n",
       "</table>\n",
       "</div>"
      ],
      "text/plain": [
       "   id created_at  campaign_var_1  campaign_var_2  products_purchased  \\\n",
       "0   1 2021-01-01               1               2                 2.0   \n",
       "1   2 2021-01-01               2               1                 2.0   \n",
       "2   3 2021-01-01               9               3                 3.0   \n",
       "3   4 2021-01-01               6               7                 2.0   \n",
       "4   5 2021-01-01               4               6                 0.0   \n",
       "\n",
       "  signup_date  user_activity_var_1  user_activity_var_2  user_activity_var_3  \\\n",
       "0  2020-09-24                    0                    0                    0   \n",
       "1  2020-09-19                    1                    0                    1   \n",
       "2  2021-08-11                    1                    0                    0   \n",
       "3  2017-10-04                    0                    0                    0   \n",
       "4  2020-06-08                    0                    0                    0   \n",
       "\n",
       "   user_activity_var_4  user_activity_var_5  user_activity_var_6  \\\n",
       "0                    0                    0                    0   \n",
       "1                    0                    0                    0   \n",
       "2                    0                    0                    0   \n",
       "3                    0                    0                    0   \n",
       "4                    0                    0                    0   \n",
       "\n",
       "   user_activity_var_7  user_activity_var_8  user_activity_var_9  \\\n",
       "0                    1                    1                    0   \n",
       "1                    1                    0                    0   \n",
       "2                    0                    0                    0   \n",
       "3                    0                    0                    0   \n",
       "4                    1                    0                    0   \n",
       "\n",
       "   user_activity_var_10  user_activity_var_11  user_activity_var_12  buy  \\\n",
       "0                     0                     0                     0    0   \n",
       "1                     0                     0                     0    0   \n",
       "2                     0                     0                     0    0   \n",
       "3                     0                     0                     0    0   \n",
       "4                     0                     1                     0    0   \n",
       "\n",
       "   signup_na  \n",
       "0          0  \n",
       "1          0  \n",
       "2          0  \n",
       "3          0  \n",
       "4          0  "
      ]
     },
     "execution_count": 19,
     "metadata": {},
     "output_type": "execute_result"
    }
   ],
   "source": [
    "data.head()"
   ]
  },
  {
   "cell_type": "markdown",
   "id": "0c2df492",
   "metadata": {},
   "source": [
    "### Modelling\n",
    "\n",
    "- Importing various algorithm, ensemble methods, metric and model_selection methods\n",
    "- Split dataset into 2 parts, train and test set\n",
    "- First, a baseline model with DecisionTreeclassifier, then ensemble methods."
   ]
  },
  {
   "cell_type": "code",
   "execution_count": 20,
   "id": "410f348d",
   "metadata": {},
   "outputs": [],
   "source": [
    "from sklearn.tree import DecisionTreeClassifier\n",
    "from sklearn.ensemble import RandomForestClassifier, AdaBoostClassifier\n",
    "from sklearn.metrics import f1_score\n",
    "from sklearn.model_selection import train_test_split, GridSearchCV, RandomizedSearchCV"
   ]
  },
  {
   "cell_type": "markdown",
   "id": "b3e6676c",
   "metadata": {},
   "source": [
    "- The target variable 'buy' is stored in the variable y\n",
    "- From the dataset, dropping the following columns - id, created_at, signup_date, buy and storing in the variable x (the list of independent variables) "
   ]
  },
  {
   "cell_type": "code",
   "execution_count": 21,
   "id": "fdea3876",
   "metadata": {},
   "outputs": [
    {
     "data": {
      "text/plain": [
       "((39161, 16), (39161,))"
      ]
     },
     "execution_count": 21,
     "metadata": {},
     "output_type": "execute_result"
    }
   ],
   "source": [
    "y = data['buy']\n",
    "x = data.drop(['id', 'created_at', 'signup_date', 'buy'], axis=1)\n",
    "x.shape, y.shape"
   ]
  },
  {
   "cell_type": "markdown",
   "id": "b4b0b762",
   "metadata": {},
   "source": [
    "- Splitting the dataset into train and test using stratify.\n",
    "- This will ensure that the distribution of target variable is uniform in both the train and test datasets"
   ]
  },
  {
   "cell_type": "code",
   "execution_count": 22,
   "id": "b42eeefa",
   "metadata": {},
   "outputs": [],
   "source": [
    "train_x, test_x, train_y, test_y = train_test_split(x, y, random_state=96, stratify=y)"
   ]
  },
  {
   "cell_type": "markdown",
   "id": "a2b9f671",
   "metadata": {},
   "source": [
    "- Training the data on a decision tree classifier and checking train and test scores.\n",
    "\n",
    "### Decision Tree Classifier"
   ]
  },
  {
   "cell_type": "code",
   "execution_count": 23,
   "id": "e35cf8db",
   "metadata": {},
   "outputs": [],
   "source": [
    "dtc = DecisionTreeClassifier(random_state=96, min_samples_split=200, max_depth=10, min_samples_leaf=40)"
   ]
  },
  {
   "cell_type": "code",
   "execution_count": 24,
   "id": "f31660c7",
   "metadata": {},
   "outputs": [
    {
     "data": {
      "text/plain": [
       "(0.6839422259983008, 0.6579973992197659)"
      ]
     },
     "execution_count": 24,
     "metadata": {},
     "output_type": "execute_result"
    }
   ],
   "source": [
    "dtc.fit(train_x, train_y)\n",
    "train_score = f1_score(dtc.predict(train_x), train_y)\n",
    "test_score = f1_score(dtc.predict(test_x), test_y)\n",
    "train_score, test_score"
   ]
  },
  {
   "cell_type": "markdown",
   "id": "bdcae274",
   "metadata": {},
   "source": [
    "On using decision tree classifier with some random value of hyperparameters, we get following value of f1_score\n",
    "- Train set - 0.6839422259983008\n",
    "- Test set - 0.6579973992197659\n",
    "\n",
    "To get a better model, let's try using emsemble methods. We will start by using RandomForestClassifier."
   ]
  },
  {
   "cell_type": "markdown",
   "id": "d57a35bd",
   "metadata": {},
   "source": [
    "### Random Forest Classifier"
   ]
  },
  {
   "cell_type": "code",
   "execution_count": 25,
   "id": "72d0589d",
   "metadata": {},
   "outputs": [],
   "source": [
    "rf = RandomForestClassifier(random_state=96)"
   ]
  },
  {
   "cell_type": "code",
   "execution_count": 26,
   "id": "d776d106",
   "metadata": {},
   "outputs": [
    {
     "data": {
      "text/plain": [
       "(0.6839422259983008, 0.6579973992197659)"
      ]
     },
     "execution_count": 26,
     "metadata": {},
     "output_type": "execute_result"
    }
   ],
   "source": [
    "rf.fit(train_x, train_y)\n",
    "train_score = f1_score(dtc.predict(train_x), train_y)\n",
    "test_score = f1_score(dtc.predict(test_x), test_y)\n",
    "train_score, test_score"
   ]
  },
  {
   "cell_type": "markdown",
   "id": "ea95f549",
   "metadata": {},
   "source": [
    "As we can see, the basic random forest classifier is as good as the decision tree. So, its time to do some hyperparameter tuning. We will use RandomizedSearchCV.\n",
    "\n",
    "- For this, we will create a hyperparameter matrix and initialise the range of values which we want the RandomizedSearchCV to optimise for.\n",
    "- Then, perform a randomized search for these parameters. "
   ]
  },
  {
   "cell_type": "code",
   "execution_count": 27,
   "id": "4a0a5dfd",
   "metadata": {},
   "outputs": [],
   "source": [
    "parameters = {\n",
    "    'n_estimators': range(5,100,5),\n",
    "    'max_depth': range(5,15),\n",
    "    'min_samples_split': range(6,20,2),\n",
    "    'min_samples_leaf': range(4,10),\n",
    "    'max_features': [0.4, 0.5, 0.6, 0.7]\n",
    "}"
   ]
  },
  {
   "cell_type": "code",
   "execution_count": 28,
   "id": "88ccb9fa",
   "metadata": {},
   "outputs": [],
   "source": [
    "random_search = RandomizedSearchCV(estimator=rf, param_distributions=parameters, \n",
    "                                   random_state=96, scoring=f1_score, cv=5)"
   ]
  },
  {
   "cell_type": "code",
   "execution_count": 29,
   "id": "887fa351",
   "metadata": {},
   "outputs": [
    {
     "data": {
      "text/plain": [
       "RandomizedSearchCV(cv=5, estimator=RandomForestClassifier(random_state=96),\n",
       "                   param_distributions={'max_depth': range(5, 15),\n",
       "                                        'max_features': [0.4, 0.5, 0.6, 0.7],\n",
       "                                        'min_samples_leaf': range(4, 10),\n",
       "                                        'min_samples_split': range(6, 20, 2),\n",
       "                                        'n_estimators': range(5, 100, 5)},\n",
       "                   random_state=96,\n",
       "                   scoring=<function f1_score at 0x7fc1d4213ca0>)"
      ]
     },
     "execution_count": 29,
     "metadata": {},
     "output_type": "execute_result"
    }
   ],
   "source": [
    "random_search.fit(train_x, train_y)"
   ]
  },
  {
   "cell_type": "markdown",
   "id": "6e38500d",
   "metadata": {},
   "source": [
    "- Our model is trained, so let's check for the best combination for hyperparamters.\n",
    "- After that, we will initialise these tuned values of hyperparameters and train the model again and evaluate performance using f1_score."
   ]
  },
  {
   "cell_type": "code",
   "execution_count": 30,
   "id": "83803d5b",
   "metadata": {},
   "outputs": [
    {
     "data": {
      "text/plain": [
       "{'n_estimators': 95,\n",
       " 'min_samples_split': 10,\n",
       " 'min_samples_leaf': 4,\n",
       " 'max_features': 0.6,\n",
       " 'max_depth': 9}"
      ]
     },
     "execution_count": 30,
     "metadata": {},
     "output_type": "execute_result"
    }
   ],
   "source": [
    "random_search.best_params_"
   ]
  },
  {
   "cell_type": "code",
   "execution_count": 31,
   "id": "8c445cff",
   "metadata": {},
   "outputs": [],
   "source": [
    "rf = RandomForestClassifier(n_estimators=95, min_samples_split=10, min_samples_leaf=4, \n",
    "                            max_features=0.6, max_depth=9, random_state=96)"
   ]
  },
  {
   "cell_type": "code",
   "execution_count": 32,
   "id": "fd4ae8ac",
   "metadata": {},
   "outputs": [
    {
     "data": {
      "text/plain": [
       "(0.6919104991394147, 0.6579634464751959)"
      ]
     },
     "execution_count": 32,
     "metadata": {},
     "output_type": "execute_result"
    }
   ],
   "source": [
    "rf.fit(train_x, train_y)\n",
    "train_score = f1_score(rf.predict(train_x), train_y)\n",
    "test_score = f1_score(rf.predict(test_x), test_y)\n",
    "train_score, test_score"
   ]
  },
  {
   "cell_type": "markdown",
   "id": "9795e5b7",
   "metadata": {},
   "source": [
    "Here, we can see that our model has not improved much even with the tuned parameters. Now, we will try another ensemble method which is gradient boosting algorithm. For this purpose, we will import XGBoostClassifier\n",
    "\n",
    "### XGBoost"
   ]
  },
  {
   "cell_type": "code",
   "execution_count": 33,
   "id": "54496b1e",
   "metadata": {},
   "outputs": [],
   "source": [
    "from xgboost import XGBClassifier"
   ]
  },
  {
   "cell_type": "code",
   "execution_count": 34,
   "id": "3fb91afa",
   "metadata": {},
   "outputs": [],
   "source": [
    "xgb = XGBClassifier(random_state=96)"
   ]
  },
  {
   "cell_type": "code",
   "execution_count": 35,
   "id": "1bf3cc13",
   "metadata": {},
   "outputs": [
    {
     "data": {
      "text/plain": [
       "(0.7482546201232033, 0.6625)"
      ]
     },
     "execution_count": 35,
     "metadata": {},
     "output_type": "execute_result"
    }
   ],
   "source": [
    "xgb.fit(train_x, train_y)\n",
    "train_pred = xgb.predict(train_x)\n",
    "test_pred = xgb.predict(test_x)\n",
    "train_score = f1_score(train_pred, train_y)\n",
    "test_score = f1_score(test_pred, test_y)\n",
    "train_score, test_score"
   ]
  },
  {
   "cell_type": "markdown",
   "id": "01a72863",
   "metadata": {},
   "source": [
    "As we can see,just with the use of XGboost, our score has improved although not much but it still is improvement. Let's see if we can improve this more with the use of hyperparameter tuning."
   ]
  },
  {
   "cell_type": "code",
   "execution_count": 36,
   "id": "4e03f05b",
   "metadata": {},
   "outputs": [],
   "source": [
    "parameters = {\n",
    "    'max_depth': range(8,15),\n",
    "    'n_estimators': range(50,90,5),\n",
    "    'learning_rate': range(3,10),\n",
    "    'reg_lambda': range(700,1100,100)   \n",
    "}"
   ]
  },
  {
   "cell_type": "code",
   "execution_count": 37,
   "id": "bb1570c2",
   "metadata": {},
   "outputs": [],
   "source": [
    "random_search = RandomizedSearchCV(estimator=xgb, param_distributions=parameters, random_state=96, \n",
    "                                   scoring=f1_score, cv=4)"
   ]
  },
  {
   "cell_type": "code",
   "execution_count": 38,
   "id": "dfb1ef38",
   "metadata": {},
   "outputs": [
    {
     "data": {
      "text/plain": [
       "{'reg_lambda': 700, 'n_estimators': 75, 'max_depth': 10, 'learning_rate': 3}"
      ]
     },
     "execution_count": 38,
     "metadata": {},
     "output_type": "execute_result"
    }
   ],
   "source": [
    "random_search.fit(train_x, train_y)\n",
    "random_search.best_params_"
   ]
  },
  {
   "cell_type": "code",
   "execution_count": 39,
   "id": "4d24df41",
   "metadata": {},
   "outputs": [
    {
     "data": {
      "text/plain": [
       "(0.7295183202964183, 0.6658322903629538)"
      ]
     },
     "execution_count": 39,
     "metadata": {},
     "output_type": "execute_result"
    }
   ],
   "source": [
    "xgb = XGBClassifier(random_state=96, max_depth=10, n_estimators=75, learning_rate=3, \n",
    "                    reg_lambda=700, objective='binary:logistic')\n",
    "xgb.fit(train_x, train_y)\n",
    "train_pred = xgb.predict(train_x)\n",
    "test_pred = xgb.predict(test_x)\n",
    "train_score = f1_score(train_pred, train_y)\n",
    "test_score = f1_score(test_pred, test_y)\n",
    "train_score, test_score"
   ]
  },
  {
   "cell_type": "markdown",
   "id": "37b392a0",
   "metadata": {},
   "source": [
    "Earlier, the score was \n",
    "- Train set: 0.7482546201232033\n",
    "- Test set: 0.6625\n",
    "\n",
    "With use of tuned hyperparameters, the test score has improved. The train score has gone down slightly but the difference between train and test score has decreased which is what happens when we move from a more over-fitted model to a more generalised model.\n",
    "- Train set: 0.7295183202964183\n",
    "- Test set: 0.6658322903629538"
   ]
  },
  {
   "cell_type": "markdown",
   "id": "cc88cbcc",
   "metadata": {},
   "source": [
    "#### On trying to improve the score further, some manual hit and trial is done and the score has further improved with the combination of these parameters"
   ]
  },
  {
   "cell_type": "code",
   "execution_count": 45,
   "id": "dc7cbccb",
   "metadata": {},
   "outputs": [
    {
     "data": {
      "text/plain": [
       "(0.7207281754240794, 0.6733668341708543)"
      ]
     },
     "execution_count": 45,
     "metadata": {},
     "output_type": "execute_result"
    }
   ],
   "source": [
    "xgb_final = XGBClassifier(random_state=96, max_depth=15, n_estimators=40, learning_rate=5, reg_alpha=4,\n",
    "                    reg_lambda=1000, objective='binary:logistic')\n",
    "xgb_final.fit(train_x, train_y)\n",
    "train_pred = xgb_final.predict(train_x)\n",
    "test_pred = xgb_final.predict(test_x)\n",
    "train_score = f1_score(train_pred, train_y)\n",
    "test_score = f1_score(test_pred, test_y)\n",
    "train_score, test_score"
   ]
  },
  {
   "cell_type": "code",
   "execution_count": null,
   "id": "4f6e9d67",
   "metadata": {},
   "outputs": [],
   "source": []
  },
  {
   "cell_type": "markdown",
   "id": "78d5982f",
   "metadata": {},
   "source": [
    "## Final prediction using best-trained model and exporting the output"
   ]
  },
  {
   "cell_type": "markdown",
   "id": "a3363814",
   "metadata": {},
   "source": [
    "Importing the test data on which predictions are required to be done and submitted.\n",
    "\n",
    "- After doing all the pre-processing, we will take predictions against the test data from our best trained model.\n"
   ]
  },
  {
   "cell_type": "code",
   "execution_count": 41,
   "id": "44a363ec",
   "metadata": {},
   "outputs": [],
   "source": [
    "test_data = pd.read_csv('test_Wf7sxXF.csv')\n",
    "test_data['created_at'] = pd.to_datetime(test_data['created_at'], format=\"%Y-%m-%d\")\n",
    "test_data['signup_date'] = pd.to_datetime(test_data['signup_date'], format=\"%Y-%m-%d\")\n",
    "test_data['products_purchased'] = test_data['products_purchased'].fillna(value=0)\n",
    "test_data['signup_na'] = test_data['signup_date'].isnull().astype('int64')"
   ]
  },
  {
   "cell_type": "code",
   "execution_count": 42,
   "id": "a7ab3d3a",
   "metadata": {},
   "outputs": [
    {
     "data": {
      "text/html": [
       "<div>\n",
       "<style scoped>\n",
       "    .dataframe tbody tr th:only-of-type {\n",
       "        vertical-align: middle;\n",
       "    }\n",
       "\n",
       "    .dataframe tbody tr th {\n",
       "        vertical-align: top;\n",
       "    }\n",
       "\n",
       "    .dataframe thead th {\n",
       "        text-align: right;\n",
       "    }\n",
       "</style>\n",
       "<table border=\"1\" class=\"dataframe\">\n",
       "  <thead>\n",
       "    <tr style=\"text-align: right;\">\n",
       "      <th></th>\n",
       "      <th>id</th>\n",
       "      <th>created_at</th>\n",
       "      <th>campaign_var_1</th>\n",
       "      <th>campaign_var_2</th>\n",
       "      <th>products_purchased</th>\n",
       "      <th>signup_date</th>\n",
       "      <th>user_activity_var_1</th>\n",
       "      <th>user_activity_var_2</th>\n",
       "      <th>user_activity_var_3</th>\n",
       "      <th>user_activity_var_4</th>\n",
       "      <th>user_activity_var_5</th>\n",
       "      <th>user_activity_var_6</th>\n",
       "      <th>user_activity_var_7</th>\n",
       "      <th>user_activity_var_8</th>\n",
       "      <th>user_activity_var_9</th>\n",
       "      <th>user_activity_var_10</th>\n",
       "      <th>user_activity_var_11</th>\n",
       "      <th>user_activity_var_12</th>\n",
       "      <th>signup_na</th>\n",
       "    </tr>\n",
       "  </thead>\n",
       "  <tbody>\n",
       "    <tr>\n",
       "      <th>0</th>\n",
       "      <td>39162</td>\n",
       "      <td>2022-01-01</td>\n",
       "      <td>2</td>\n",
       "      <td>2</td>\n",
       "      <td>0.0</td>\n",
       "      <td>2021-08-17</td>\n",
       "      <td>1</td>\n",
       "      <td>1</td>\n",
       "      <td>0</td>\n",
       "      <td>0</td>\n",
       "      <td>0</td>\n",
       "      <td>1</td>\n",
       "      <td>0</td>\n",
       "      <td>0</td>\n",
       "      <td>0</td>\n",
       "      <td>0</td>\n",
       "      <td>1</td>\n",
       "      <td>0</td>\n",
       "      <td>0</td>\n",
       "    </tr>\n",
       "    <tr>\n",
       "      <th>1</th>\n",
       "      <td>39163</td>\n",
       "      <td>2022-01-01</td>\n",
       "      <td>4</td>\n",
       "      <td>7</td>\n",
       "      <td>3.0</td>\n",
       "      <td>2020-05-21</td>\n",
       "      <td>1</td>\n",
       "      <td>0</td>\n",
       "      <td>0</td>\n",
       "      <td>0</td>\n",
       "      <td>0</td>\n",
       "      <td>0</td>\n",
       "      <td>0</td>\n",
       "      <td>1</td>\n",
       "      <td>0</td>\n",
       "      <td>0</td>\n",
       "      <td>0</td>\n",
       "      <td>0</td>\n",
       "      <td>0</td>\n",
       "    </tr>\n",
       "    <tr>\n",
       "      <th>2</th>\n",
       "      <td>39164</td>\n",
       "      <td>2022-01-01</td>\n",
       "      <td>8</td>\n",
       "      <td>7</td>\n",
       "      <td>0.0</td>\n",
       "      <td>NaT</td>\n",
       "      <td>0</td>\n",
       "      <td>0</td>\n",
       "      <td>0</td>\n",
       "      <td>0</td>\n",
       "      <td>1</td>\n",
       "      <td>1</td>\n",
       "      <td>0</td>\n",
       "      <td>0</td>\n",
       "      <td>0</td>\n",
       "      <td>0</td>\n",
       "      <td>0</td>\n",
       "      <td>0</td>\n",
       "      <td>1</td>\n",
       "    </tr>\n",
       "    <tr>\n",
       "      <th>3</th>\n",
       "      <td>39165</td>\n",
       "      <td>2022-01-01</td>\n",
       "      <td>9</td>\n",
       "      <td>8</td>\n",
       "      <td>2.0</td>\n",
       "      <td>2020-06-22</td>\n",
       "      <td>0</td>\n",
       "      <td>0</td>\n",
       "      <td>0</td>\n",
       "      <td>0</td>\n",
       "      <td>1</td>\n",
       "      <td>1</td>\n",
       "      <td>1</td>\n",
       "      <td>0</td>\n",
       "      <td>0</td>\n",
       "      <td>0</td>\n",
       "      <td>2</td>\n",
       "      <td>0</td>\n",
       "      <td>0</td>\n",
       "    </tr>\n",
       "    <tr>\n",
       "      <th>4</th>\n",
       "      <td>39166</td>\n",
       "      <td>2022-01-01</td>\n",
       "      <td>4</td>\n",
       "      <td>5</td>\n",
       "      <td>2.0</td>\n",
       "      <td>2021-03-10</td>\n",
       "      <td>1</td>\n",
       "      <td>0</td>\n",
       "      <td>0</td>\n",
       "      <td>0</td>\n",
       "      <td>0</td>\n",
       "      <td>0</td>\n",
       "      <td>0</td>\n",
       "      <td>0</td>\n",
       "      <td>0</td>\n",
       "      <td>0</td>\n",
       "      <td>0</td>\n",
       "      <td>0</td>\n",
       "      <td>0</td>\n",
       "    </tr>\n",
       "  </tbody>\n",
       "</table>\n",
       "</div>"
      ],
      "text/plain": [
       "      id created_at  campaign_var_1  campaign_var_2  products_purchased  \\\n",
       "0  39162 2022-01-01               2               2                 0.0   \n",
       "1  39163 2022-01-01               4               7                 3.0   \n",
       "2  39164 2022-01-01               8               7                 0.0   \n",
       "3  39165 2022-01-01               9               8                 2.0   \n",
       "4  39166 2022-01-01               4               5                 2.0   \n",
       "\n",
       "  signup_date  user_activity_var_1  user_activity_var_2  user_activity_var_3  \\\n",
       "0  2021-08-17                    1                    1                    0   \n",
       "1  2020-05-21                    1                    0                    0   \n",
       "2         NaT                    0                    0                    0   \n",
       "3  2020-06-22                    0                    0                    0   \n",
       "4  2021-03-10                    1                    0                    0   \n",
       "\n",
       "   user_activity_var_4  user_activity_var_5  user_activity_var_6  \\\n",
       "0                    0                    0                    1   \n",
       "1                    0                    0                    0   \n",
       "2                    0                    1                    1   \n",
       "3                    0                    1                    1   \n",
       "4                    0                    0                    0   \n",
       "\n",
       "   user_activity_var_7  user_activity_var_8  user_activity_var_9  \\\n",
       "0                    0                    0                    0   \n",
       "1                    0                    1                    0   \n",
       "2                    0                    0                    0   \n",
       "3                    1                    0                    0   \n",
       "4                    0                    0                    0   \n",
       "\n",
       "   user_activity_var_10  user_activity_var_11  user_activity_var_12  signup_na  \n",
       "0                     0                     1                     0          0  \n",
       "1                     0                     0                     0          0  \n",
       "2                     0                     0                     0          1  \n",
       "3                     0                     2                     0          0  \n",
       "4                     0                     0                     0          0  "
      ]
     },
     "execution_count": 42,
     "metadata": {},
     "output_type": "execute_result"
    }
   ],
   "source": [
    "test_data.head()"
   ]
  },
  {
   "cell_type": "code",
   "execution_count": 43,
   "id": "3bfff4c0",
   "metadata": {},
   "outputs": [],
   "source": [
    "id_value = test_data['id']\n",
    "test_data = test_data.drop(['id', 'created_at', 'signup_date'], axis=1)"
   ]
  },
  {
   "cell_type": "code",
   "execution_count": 48,
   "id": "8052946e",
   "metadata": {},
   "outputs": [],
   "source": [
    "test_pred = xgb_final.predict(test_data)\n",
    "test_pr = pd.Series(test_pred)\n",
    "final = pd.concat([id_value, test_pr], names=['id', 'buy'], axis=1)\n",
    "final.columns = ['id', 'buy']\n",
    "final = final.set_index('id')\n",
    "final.to_csv('xgboost_best_output3.csv')"
   ]
  },
  {
   "cell_type": "code",
   "execution_count": null,
   "id": "4dc50439",
   "metadata": {},
   "outputs": [],
   "source": []
  }
 ],
 "metadata": {
  "kernelspec": {
   "display_name": "Python 3 (ipykernel)",
   "language": "python",
   "name": "python3"
  },
  "language_info": {
   "codemirror_mode": {
    "name": "ipython",
    "version": 3
   },
   "file_extension": ".py",
   "mimetype": "text/x-python",
   "name": "python",
   "nbconvert_exporter": "python",
   "pygments_lexer": "ipython3",
   "version": "3.9.7"
  }
 },
 "nbformat": 4,
 "nbformat_minor": 5
}
